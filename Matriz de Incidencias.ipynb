{
 "cells": [
  {
   "cell_type": "markdown",
   "id": "3018369f",
   "metadata": {},
   "source": [
    "## MATRIZ DE INCIDENCIA\n"
   ]
  },
  {
   "cell_type": "markdown",
   "id": "06a20424",
   "metadata": {},
   "source": [
    "Datos de los participantes:\n",
    "    \n",
    "- ID\n",
    "\n",
    "- pseudónimo\n",
    "\n",
    "- sexo\n",
    "\n",
    "- edad\n",
    "    "
   ]
  },
  {
   "cell_type": "code",
   "execution_count": 2,
   "id": "546cda08",
   "metadata": {},
   "outputs": [],
   "source": [
    "import pandas as pd\n",
    "pd.options.display.max_rows = 60 #None #60\n",
    "pd.options.display.max_columns = 60 # None #70\n",
    "import numpy as np\n",
    "import matplotlib.pyplot as plt\n",
    "\n",
    "import numpy as np\n",
    "import seaborn as sns\n",
    "%matplotlib inline"
   ]
  },
  {
   "cell_type": "code",
   "execution_count": 20,
   "id": "e20331c2",
   "metadata": {},
   "outputs": [
    {
     "name": "stdout",
     "output_type": "stream",
     "text": [
      "The incident matrix is:\n",
      " [[list(['ID', 'sex', 'age', 'EEG', 'Tobii', 'SConductance', 'BloodPressure', 'Breathing'])\n",
      "  list(['GF', '88', 'X', 'X', 'X', 'X', 'X'])\n",
      "  list(['GF', '88', 'X', 'X', 'X', 'X', 'X'])\n",
      "  list(['GF', '88', 'X', 'X', 'X', 'X', 'X'])\n",
      "  list(['GF', '88', 'X', 'X', 'X', 'X', 'X'])]]\n"
     ]
    }
   ],
   "source": [
    "Data = ['ID','sex','age','EEG','Tobii','SConductance','BloodPressure','Breathing']\n",
    "GF = ['GF','88','X','X','X','X','X']\n",
    "PL = ['GF','88','X','X','X','X','X']\n",
    "MD = ['GF','88','X','X','X','X','X']\n",
    "GD = ['GF','88','X','X','X','X','X']\n",
    "\n",
    "m =  np.matrix([Data,GF,PL,MD,GD])\n",
    "print('The incident matrix is:\\n', m)\n",
    "\n"
   ]
  },
  {
   "cell_type": "code",
   "execution_count": 19,
   "id": "35ab0269",
   "metadata": {},
   "outputs": [
    {
     "name": "stdout",
     "output_type": "stream",
     "text": [
      "The incident matrix is:\n",
      " [['A' 'A' '5']\n",
      " ['A' 'B' '4']]\n"
     ]
    }
   ],
   "source": [
    "PG =['A', 'A', '5']\n",
    "DF= ['A', 'B', '4']\n",
    "m =  np.matrix([['A', 'A', '5'], ['A', 'B', '4']])\n",
    "print('The incident matrix is:\\n', m)"
   ]
  },
  {
   "cell_type": "code",
   "execution_count": 18,
   "id": "ca9e33d7",
   "metadata": {},
   "outputs": [
    {
     "name": "stdout",
     "output_type": "stream",
     "text": [
      "The incident matrix:\n",
      " [['A' 'A' '5']\n",
      " ['A' 'B' '4']]\n"
     ]
    }
   ],
   "source": [
    "PG =['A', 'A', '5']\n",
    "DF= ['A', 'B', '4']\n",
    "Mm =  np.matrix([PG,DF])\n",
    "print('The incident matrix:\\n', Mm)"
   ]
  },
  {
   "cell_type": "code",
   "execution_count": null,
   "id": "47899012",
   "metadata": {},
   "outputs": [],
   "source": []
  }
 ],
 "metadata": {
  "kernelspec": {
   "display_name": "Python 3 (ipykernel)",
   "language": "python",
   "name": "python3"
  },
  "language_info": {
   "codemirror_mode": {
    "name": "ipython",
    "version": 3
   },
   "file_extension": ".py",
   "mimetype": "text/x-python",
   "name": "python",
   "nbconvert_exporter": "python",
   "pygments_lexer": "ipython3",
   "version": "3.7.13"
  }
 },
 "nbformat": 4,
 "nbformat_minor": 5
}
